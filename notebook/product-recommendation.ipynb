{
 "cells": [
  {
   "cell_type": "code",
   "execution_count": 3,
   "id": "efd55caa",
   "metadata": {},
   "outputs": [],
   "source": [
    "import pandas as pd\n",
    "import os"
   ]
  },
  {
   "cell_type": "code",
   "execution_count": 6,
   "id": "6244b040",
   "metadata": {},
   "outputs": [
    {
     "data": {
      "text/plain": [
       "'c:\\\\Users\\\\Aditya\\\\OneDrive\\\\Documents\\\\DataScience\\\\projects\\\\product-recommendation'"
      ]
     },
     "execution_count": 6,
     "metadata": {},
     "output_type": "execute_result"
    }
   ],
   "source": [
    "%pwd"
   ]
  },
  {
   "cell_type": "code",
   "execution_count": 5,
   "id": "e3d16fc5",
   "metadata": {},
   "outputs": [],
   "source": [
    "os.chdir('../')"
   ]
  },
  {
   "cell_type": "code",
   "execution_count": 7,
   "id": "2de5e9a9",
   "metadata": {},
   "outputs": [
    {
     "data": {
      "text/html": [
       "<div>\n",
       "<style scoped>\n",
       "    .dataframe tbody tr th:only-of-type {\n",
       "        vertical-align: middle;\n",
       "    }\n",
       "\n",
       "    .dataframe tbody tr th {\n",
       "        vertical-align: top;\n",
       "    }\n",
       "\n",
       "    .dataframe thead th {\n",
       "        text-align: right;\n",
       "    }\n",
       "</style>\n",
       "<table border=\"1\" class=\"dataframe\">\n",
       "  <thead>\n",
       "    <tr style=\"text-align: right;\">\n",
       "      <th></th>\n",
       "      <th>product_id</th>\n",
       "      <th>product_title</th>\n",
       "      <th>rating</th>\n",
       "      <th>summary</th>\n",
       "      <th>review</th>\n",
       "    </tr>\n",
       "  </thead>\n",
       "  <tbody>\n",
       "    <tr>\n",
       "      <th>0</th>\n",
       "      <td>ACCFZGAQJGYCYDCM</td>\n",
       "      <td>BoAt Rockerz 235v2 with ASAP charging Version ...</td>\n",
       "      <td>5</td>\n",
       "      <td>Terrific purchase</td>\n",
       "      <td>1-more flexible2-bass is very high3-sound clar...</td>\n",
       "    </tr>\n",
       "    <tr>\n",
       "      <th>1</th>\n",
       "      <td>ACCFZGAQJGYCYDCM</td>\n",
       "      <td>BoAt Rockerz 235v2 with ASAP charging Version ...</td>\n",
       "      <td>5</td>\n",
       "      <td>Terrific purchase</td>\n",
       "      <td>Super sound and good looking I like that prize</td>\n",
       "    </tr>\n",
       "    <tr>\n",
       "      <th>2</th>\n",
       "      <td>ACCFZGAQJGYCYDCM</td>\n",
       "      <td>BoAt Rockerz 235v2 with ASAP charging Version ...</td>\n",
       "      <td>5</td>\n",
       "      <td>Super!</td>\n",
       "      <td>Very much satisfied with the device at this pr...</td>\n",
       "    </tr>\n",
       "    <tr>\n",
       "      <th>3</th>\n",
       "      <td>ACCFZGAQJGYCYDCM</td>\n",
       "      <td>BoAt Rockerz 235v2 with ASAP charging Version ...</td>\n",
       "      <td>5</td>\n",
       "      <td>Super!</td>\n",
       "      <td>Nice headphone, bass was very good and sound i...</td>\n",
       "    </tr>\n",
       "    <tr>\n",
       "      <th>4</th>\n",
       "      <td>ACCFZGAQJGYCYDCM</td>\n",
       "      <td>BoAt Rockerz 235v2 with ASAP charging Version ...</td>\n",
       "      <td>5</td>\n",
       "      <td>Terrific purchase</td>\n",
       "      <td>Sound quality super battery backup super quali...</td>\n",
       "    </tr>\n",
       "  </tbody>\n",
       "</table>\n",
       "</div>"
      ],
      "text/plain": [
       "         product_id                                      product_title  \\\n",
       "0  ACCFZGAQJGYCYDCM  BoAt Rockerz 235v2 with ASAP charging Version ...   \n",
       "1  ACCFZGAQJGYCYDCM  BoAt Rockerz 235v2 with ASAP charging Version ...   \n",
       "2  ACCFZGAQJGYCYDCM  BoAt Rockerz 235v2 with ASAP charging Version ...   \n",
       "3  ACCFZGAQJGYCYDCM  BoAt Rockerz 235v2 with ASAP charging Version ...   \n",
       "4  ACCFZGAQJGYCYDCM  BoAt Rockerz 235v2 with ASAP charging Version ...   \n",
       "\n",
       "   rating            summary  \\\n",
       "0       5  Terrific purchase   \n",
       "1       5  Terrific purchase   \n",
       "2       5             Super!   \n",
       "3       5             Super!   \n",
       "4       5  Terrific purchase   \n",
       "\n",
       "                                              review  \n",
       "0  1-more flexible2-bass is very high3-sound clar...  \n",
       "1     Super sound and good looking I like that prize  \n",
       "2  Very much satisfied with the device at this pr...  \n",
       "3  Nice headphone, bass was very good and sound i...  \n",
       "4  Sound quality super battery backup super quali...  "
      ]
     },
     "execution_count": 7,
     "metadata": {},
     "output_type": "execute_result"
    }
   ],
   "source": [
    "data=pd.read_csv(\"data//flipkart_product_review.csv\")\n",
    "data.head()"
   ]
  },
  {
   "cell_type": "code",
   "execution_count": 8,
   "id": "9697093b",
   "metadata": {},
   "outputs": [
    {
     "data": {
      "text/plain": [
       "Index(['product_id', 'product_title', 'rating', 'summary', 'review'], dtype='object')"
      ]
     },
     "execution_count": 8,
     "metadata": {},
     "output_type": "execute_result"
    }
   ],
   "source": [
    "data.columns"
   ]
  },
  {
   "cell_type": "code",
   "execution_count": 9,
   "id": "129b3f63",
   "metadata": {},
   "outputs": [],
   "source": [
    "df=data[[\"product_title\",\"review\"]]"
   ]
  },
  {
   "cell_type": "code",
   "execution_count": 9,
   "id": "e808d49e",
   "metadata": {},
   "outputs": [
    {
     "data": {
      "text/html": [
       "<div>\n",
       "<style scoped>\n",
       "    .dataframe tbody tr th:only-of-type {\n",
       "        vertical-align: middle;\n",
       "    }\n",
       "\n",
       "    .dataframe tbody tr th {\n",
       "        vertical-align: top;\n",
       "    }\n",
       "\n",
       "    .dataframe thead th {\n",
       "        text-align: right;\n",
       "    }\n",
       "</style>\n",
       "<table border=\"1\" class=\"dataframe\">\n",
       "  <thead>\n",
       "    <tr style=\"text-align: right;\">\n",
       "      <th></th>\n",
       "      <th>product_title</th>\n",
       "      <th>review</th>\n",
       "    </tr>\n",
       "  </thead>\n",
       "  <tbody>\n",
       "    <tr>\n",
       "      <th>0</th>\n",
       "      <td>BoAt Rockerz 235v2 with ASAP charging Version ...</td>\n",
       "      <td>1-more flexible2-bass is very high3-sound clar...</td>\n",
       "    </tr>\n",
       "    <tr>\n",
       "      <th>1</th>\n",
       "      <td>BoAt Rockerz 235v2 with ASAP charging Version ...</td>\n",
       "      <td>Super sound and good looking I like that prize</td>\n",
       "    </tr>\n",
       "    <tr>\n",
       "      <th>2</th>\n",
       "      <td>BoAt Rockerz 235v2 with ASAP charging Version ...</td>\n",
       "      <td>Very much satisfied with the device at this pr...</td>\n",
       "    </tr>\n",
       "    <tr>\n",
       "      <th>3</th>\n",
       "      <td>BoAt Rockerz 235v2 with ASAP charging Version ...</td>\n",
       "      <td>Nice headphone, bass was very good and sound i...</td>\n",
       "    </tr>\n",
       "    <tr>\n",
       "      <th>4</th>\n",
       "      <td>BoAt Rockerz 235v2 with ASAP charging Version ...</td>\n",
       "      <td>Sound quality super battery backup super quali...</td>\n",
       "    </tr>\n",
       "  </tbody>\n",
       "</table>\n",
       "</div>"
      ],
      "text/plain": [
       "                                       product_title  \\\n",
       "0  BoAt Rockerz 235v2 with ASAP charging Version ...   \n",
       "1  BoAt Rockerz 235v2 with ASAP charging Version ...   \n",
       "2  BoAt Rockerz 235v2 with ASAP charging Version ...   \n",
       "3  BoAt Rockerz 235v2 with ASAP charging Version ...   \n",
       "4  BoAt Rockerz 235v2 with ASAP charging Version ...   \n",
       "\n",
       "                                              review  \n",
       "0  1-more flexible2-bass is very high3-sound clar...  \n",
       "1     Super sound and good looking I like that prize  \n",
       "2  Very much satisfied with the device at this pr...  \n",
       "3  Nice headphone, bass was very good and sound i...  \n",
       "4  Sound quality super battery backup super quali...  "
      ]
     },
     "execution_count": 9,
     "metadata": {},
     "output_type": "execute_result"
    }
   ],
   "source": [
    "df.head()"
   ]
  },
  {
   "cell_type": "code",
   "execution_count": 10,
   "id": "8184391e",
   "metadata": {},
   "outputs": [],
   "source": [
    "product_list=[]\n",
    "\n",
    "## Iterate over the rows of the DataFrame\n",
    "\n",
    "for index,row in df.iterrows():\n",
    "    object={\n",
    "        \"product_name\": row[\"product_title\"],\n",
    "        \"review\":row[\"review\"]\n",
    "    }\n",
    "\n",
    "## Append the object to the product list\n",
    "    product_list.append(object)"
   ]
  },
  {
   "cell_type": "code",
   "execution_count": 11,
   "id": "4af2569d",
   "metadata": {},
   "outputs": [
    {
     "data": {
      "text/plain": [
       "{'product_name': 'BoAt Rockerz 235v2 with ASAP charging Version 5.0 Bluetooth Headset',\n",
       " 'review': \"1-more flexible2-bass is very high3-sound clarity is good 4-battery back up to 6 to 8 hour's 5-main thing is fastest charging system is available in that. Only 20 min charge and get long up to 4 hours back up 6-killing look awesome 7-for gaming that product does not support 100% if you want for gaming then I'll recommend you please don't buy but you want for only music then this product is very well for you.. 8-no more wireless headphones are comparing with that headphones at this pric...\"}"
      ]
     },
     "execution_count": 11,
     "metadata": {},
     "output_type": "execute_result"
    }
   ],
   "source": [
    "product_list[0]"
   ]
  },
  {
   "cell_type": "code",
   "execution_count": 12,
   "id": "8110d78f",
   "metadata": {},
   "outputs": [],
   "source": [
    "from langchain_core.documents import Document"
   ]
  },
  {
   "cell_type": "code",
   "execution_count": 13,
   "id": "7ac65bc3",
   "metadata": {},
   "outputs": [],
   "source": [
    "docs=[]\n",
    "\n",
    "for object in product_list:\n",
    "    metadata={\"product_name\":object[\"product_name\"]}\n",
    "    page_content=object[\"review\"]\n",
    "\n",
    "    doc=Document(page_content=page_content,metadata=metadata)\n",
    "    docs.append(doc)"
   ]
  },
  {
   "cell_type": "code",
   "execution_count": 14,
   "id": "add7e29a",
   "metadata": {},
   "outputs": [
    {
     "data": {
      "text/plain": [
       "Document(metadata={'product_name': 'BoAt Rockerz 235v2 with ASAP charging Version 5.0 Bluetooth Headset'}, page_content='Super sound and good looking I like that prize')"
      ]
     },
     "execution_count": 14,
     "metadata": {},
     "output_type": "execute_result"
    }
   ],
   "source": [
    "docs[1]"
   ]
  },
  {
   "cell_type": "code",
   "execution_count": 15,
   "id": "3c9529c8",
   "metadata": {},
   "outputs": [
    {
     "data": {
      "text/plain": [
       "450"
      ]
     },
     "execution_count": 15,
     "metadata": {},
     "output_type": "execute_result"
    }
   ],
   "source": [
    "len(docs)"
   ]
  },
  {
   "cell_type": "code",
   "execution_count": 16,
   "id": "50f8d8ea",
   "metadata": {},
   "outputs": [
    {
     "data": {
      "text/plain": [
       "True"
      ]
     },
     "execution_count": 16,
     "metadata": {},
     "output_type": "execute_result"
    }
   ],
   "source": [
    "from dotenv import load_dotenv\n",
    "load_dotenv()"
   ]
  },
  {
   "cell_type": "code",
   "execution_count": 17,
   "id": "7baf3552",
   "metadata": {},
   "outputs": [],
   "source": [
    "GROQ_API_KEY = os.getenv(\"GROQ_API_KEY\")\n",
    "ASTRA_DB_API_ENDPOINT = os.getenv(\"ASTRA_DB_API_ENDPOINT\")\n",
    "ASTRA_DB_APPLICATION_TOKEN = os.getenv(\"ASTRA_DB_APPLICATION_TOKEN\")\n",
    "ASTRA_DB_KEYSPACE = os.getenv(\"ASTRA_DB_KEYSPACE\")\n",
    "HF_TOKEN = os.getenv(\"HF_TOKEN\")"
   ]
  },
  {
   "cell_type": "code",
   "execution_count": 18,
   "id": "b1f4efaa",
   "metadata": {},
   "outputs": [],
   "source": [
    "from langchain_community.embeddings import HuggingFaceEmbeddings"
   ]
  },
  {
   "cell_type": "code",
   "execution_count": 19,
   "id": "f68f8828",
   "metadata": {},
   "outputs": [
    {
     "name": "stderr",
     "output_type": "stream",
     "text": [
      "C:\\Users\\Aditya\\AppData\\Local\\Temp\\ipykernel_32992\\3123569051.py:1: LangChainDeprecationWarning: The class `HuggingFaceEmbeddings` was deprecated in LangChain 0.2.2 and will be removed in 1.0. An updated version of the class exists in the :class:`~langchain-huggingface package and should be used instead. To use it run `pip install -U :class:`~langchain-huggingface` and import as `from :class:`~langchain_huggingface import HuggingFaceEmbeddings``.\n",
      "  embeddings=HuggingFaceEmbeddings(model_name=\"sentence-transformers/all-MiniLM-L6-v2\")\n",
      "c:\\Users\\Aditya\\OneDrive\\Documents\\DataScience\\projects\\product-recommendation\\prodrec_env\\Lib\\site-packages\\tqdm\\auto.py:21: TqdmWarning: IProgress not found. Please update jupyter and ipywidgets. See https://ipywidgets.readthedocs.io/en/stable/user_install.html\n",
      "  from .autonotebook import tqdm as notebook_tqdm\n"
     ]
    }
   ],
   "source": [
    "embeddings=HuggingFaceEmbeddings(model_name=\"sentence-transformers/all-MiniLM-L6-v2\")"
   ]
  },
  {
   "cell_type": "code",
   "execution_count": 20,
   "id": "0522f92f",
   "metadata": {},
   "outputs": [],
   "source": [
    "from langchain_astradb import AstraDBVectorStore"
   ]
  },
  {
   "cell_type": "code",
   "execution_count": 21,
   "id": "133e4ec6",
   "metadata": {},
   "outputs": [],
   "source": [
    "vstore=AstraDBVectorStore(\n",
    "    embedding=embeddings,\n",
    "    collection_name=\"product_recommendation_db\",\n",
    "    api_endpoint=ASTRA_DB_API_ENDPOINT,\n",
    "    token=ASTRA_DB_APPLICATION_TOKEN,\n",
    "    namespace=ASTRA_DB_KEYSPACE,\n",
    ")"
   ]
  },
  {
   "cell_type": "code",
   "execution_count": 22,
   "id": "c6f1c29f",
   "metadata": {},
   "outputs": [],
   "source": [
    "insert_ids=vstore.add_documents(docs)"
   ]
  },
  {
   "cell_type": "code",
   "execution_count": 30,
   "id": "74de63af",
   "metadata": {},
   "outputs": [
    {
     "data": {
      "text/plain": [
       "['cdc8388dd5a444c99139e5c216488126',\n",
       " '901b9ec1d0834f039dd434646122ad15',\n",
       " '0860fb1f934440ba8610f0ae10e53a74',\n",
       " '2bbefa54daed4a208a91e2150ac271fe',\n",
       " 'd9de1687384748a7aec12f2c9dff5ed8',\n",
       " '82c0cf5bea5e4a629f0ccd354403d1c4',\n",
       " '7734f7c58d6e4e44b10d6f0c8358e516',\n",
       " '20bb8844464d44d3abb4ab961db6ed90',\n",
       " '599c6fb650fc4dd1837cf6fb18b42325',\n",
       " '3784a2fcebd6465ba476caa5152236b4',\n",
       " '70079c18d42a4bff812717fad7f1e76b',\n",
       " 'f6aa40350d22432db708e29b75be3235',\n",
       " '0e13f7b2c28f4b35b50bf30b75c6ee4e',\n",
       " '8bc8acce29f04ec9a54f88c555ad3aa8',\n",
       " '27d437619e8f457a8c85beaf13a2af7a',\n",
       " '25cbb2d306e84bd281517f111d99f0c8',\n",
       " '17e0e29c07a64a068a8288089c37aef4',\n",
       " '53f2111481964ab98c3306b1f2dde194',\n",
       " '96f4727ebc9a4afca26545fee7b7e0a3',\n",
       " 'faef59564ece4e0a8d310f5e2a7904dd',\n",
       " '506775aeef804b6f82a2c58e84df27b6',\n",
       " '7aa6f723388d4049b328f740ae858c77',\n",
       " '5abcb0c9381e464294143d7007f1a083',\n",
       " 'befd7ef5239e4005a9ab88382df4ca2d',\n",
       " '7b344d0994ce40bca1fad1c0cdcdc70a',\n",
       " '99bcc5f34a5d4599a20b5158613c84c5',\n",
       " '28f8bbaf31204e86a5e64a6e5c4ed85e',\n",
       " '98187e44a3224530b28847a99c753415',\n",
       " '45885765d3e74b84ac39fcf1a6081327',\n",
       " 'b90a40de58cd4407a3dcca6ac73d032d',\n",
       " 'b408f716098a44528489ba7a54b30ab6',\n",
       " '188d992b960042b2b5f3b20f5e4bb37c',\n",
       " '39302e2048ae4276b7503bc7b5ad0a1a',\n",
       " 'de7dd7b1524f4616b2b8c01186a4b1b0',\n",
       " 'cf4cbcf4e8404243a8357f5837268ad7',\n",
       " 'ea6725f5429242fa966fc3d47621bd31',\n",
       " '4cb5835049954b2c8bb2581a98328254',\n",
       " '008fe80338e84fad96a30d9ee3de5fd7',\n",
       " 'd5df9c365701438495fc3cd5a4cba43e',\n",
       " '6851b71d0def49e29bec5a6bd7899646',\n",
       " '909a2c3b691446d4a3ac2746161cbf8b',\n",
       " '6396e1ff4b334a578fe688f1fa1065d4',\n",
       " '0ad5fa0a079b4a7e85e69ef2b496b75a',\n",
       " 'd1c1591f69e64350a62da71454203cbd',\n",
       " 'dee9ede38184488cbb53492d6476a32e',\n",
       " '04cc50b9f34046a5a4030d1079c4b679',\n",
       " 'fe37a052eff44d08bf244107ef3a05bc',\n",
       " '7974c30a770a47c18f794e906de8b2c2',\n",
       " '395f750da3df45a4ad240c66a8b0dbb9',\n",
       " '0288d0af10854b9d905b75453b5e2f36',\n",
       " 'fd25a422fb51417faea94edd22dcefcd',\n",
       " '3057d2dcef3b4ca69160f4a51a5c1048',\n",
       " '1eb0c30dba3a4d9a91a745c2c4369bb0',\n",
       " 'abde09c9267646f0b3a44a58a6bdb10e',\n",
       " 'a86f14e118c2416a8f5f8989104f5df9',\n",
       " '673bbaabc9f04ae6b4fdcdee1b5378f1',\n",
       " 'f3b89426aee9486d9357d5456d84dd5e',\n",
       " '76ec9dd982404615af56718c5c5c1ba6',\n",
       " '3bfe0488ee5a4e15b4c176ad9b39f654',\n",
       " '8167830dfb7e4b54bfb038b7694a4bef',\n",
       " '5ff5d7aab27944079c3e3156187ca3cd',\n",
       " 'f0e0f386d54449a093107462971fd791',\n",
       " 'b0bf5e5837ef49b185519654afb9e169',\n",
       " '49ee231782314159ad60dd53fcd6987f',\n",
       " '8ec74a08655f4af5933a7c26de85d6f8',\n",
       " '35d7376973044ab3aabbb8769c4d3544',\n",
       " '0b41155cd556455398c0f95243597c98',\n",
       " '639122c2c72949e78f3d0c165033088c',\n",
       " '736df24963054d4da5ca712799c0c6ba',\n",
       " '0adb7065e0a643b8bf06db73f3ef8681',\n",
       " '9434165c3e554c3bb58e29a962cd74af',\n",
       " 'a759f85e7ce44724b744a2ce98a0ee2f',\n",
       " 'eedbca8c6615438883cfe307961f0ecd',\n",
       " '98cb7428cbb745188fdf6cbd8861e685',\n",
       " '4a0c1b4d93924207a8dd5d769dabaac4',\n",
       " '5642964716834efbb242ae07fdbc5f57',\n",
       " '4ed181b168964ff686720a59e4349fc0',\n",
       " 'e6633cfe7606406396c92ff9e06e269e',\n",
       " '8c1abfe394a24a55b4eb9633e5a14943',\n",
       " 'ea2a2663663e4843b71e694051139970',\n",
       " '615e08ba70c847e5a8eada8567253918',\n",
       " '3c31d61c14e54323846a6ae3992005d2',\n",
       " 'e38747cde927421c8a49398723f2c27a',\n",
       " '2451e04ee22649359ab4c869e01f03f4',\n",
       " '5b1a6b2271fd47d5a2cbc6949cb79fca',\n",
       " 'da0d25845dda4e378041492bd5001087',\n",
       " '413dad893a6744c7bc43798c3bdb0f07',\n",
       " '7b837559703f4baaa7749dcd379f5d1b',\n",
       " 'a09a0049c13b4d3abf3ac7f1040eb1dc',\n",
       " 'c44f1bf744224b8785ab265003f01115',\n",
       " '7414263cb3a9402e90f9fa072819b6e8',\n",
       " 'f892f817522e49a3aafb700f8e2023d0',\n",
       " '50d46f91bebe427cbd587044cb0efb12',\n",
       " '92dd8073fa654bd480a2ae3bc7c39c01',\n",
       " '8ee4cd9b1a7242098aea0e0f7cc17ca0',\n",
       " '441fce3a97bc48e9877fb3d170337bf4',\n",
       " 'a2da4974842a4c8aaa3b449789af86a8',\n",
       " 'a9ad62646e4e4295a5d43a477d85d71b',\n",
       " 'c30fbd73088c4a2dbc2c3d8c498f0978',\n",
       " '056d93e274554c74af61c3df124e4cbb',\n",
       " 'e8c28dd5d1f04f4d81b1fedc35430088',\n",
       " 'a104ddd412504ce68b28bb834584cd63',\n",
       " '7403ce40ecb84191a2bc4af32fe5a698',\n",
       " 'c08a2dc559144b8c8a1dccdc4c2359d0',\n",
       " '3746398deb504970a57fe0617636a0a8',\n",
       " '76936bde7d5149929b49b7692ce74a1b',\n",
       " '2291f88dd20e44168108ad629bda50ba',\n",
       " 'fd6d722afb994ddaa90eacdac9bf086e',\n",
       " '04e6fbd1d288450ab3e52b5de3a4ef79',\n",
       " '733ef42e11904d3ba6cd587f7a1b0990',\n",
       " 'ef5fd92fd7814226807a70493480b5b9',\n",
       " '609ef8d1d5ff4600b6df51a4f2faab45',\n",
       " 'e2f0334424774926849bf4e8da380b5c',\n",
       " '24f16fe2ef664d798f686f45a1083306',\n",
       " 'f3adb62e66c04a4cadc958fd6495ef00',\n",
       " 'f643500b97ff44518d6381d2516c3344',\n",
       " '3728f5da5f52411cbde615806916860e',\n",
       " '8874420e811447538d4e444ec6e1094a',\n",
       " 'f84250259bea4a6f9c84a8bdb280c6b7',\n",
       " 'faa2829873bd43f39da01f131c80d8d9',\n",
       " '89746cb4e27f4843bb5bc57a1ded1b72',\n",
       " 'a0cb2e5e12dd41e98cf6529d5ea19935',\n",
       " '2f17121135294cf382c408c8d8e33c83',\n",
       " '6f694516824b4f2dacb9bec6d10fe294',\n",
       " '8f1a514c316741c5b57ed1c16d331ea9',\n",
       " 'bf6de225303640b2af2e101999626f93',\n",
       " 'fc0bca0fbeaf4afc9d3003872b052cb0',\n",
       " '9ef58246df3142e6b02d9b37d2d50908',\n",
       " '9e73752b2d624e4bb1cdf87b96c0988b',\n",
       " '605f17095ea14de88f05d41a44f92756',\n",
       " '0bd1baf9b4bf4d11a0d9943a124be026',\n",
       " '5d34b4de26714ba797b13abe4f31284d',\n",
       " '1e86b7953c6c4a998fd20f7b322be307',\n",
       " '83bebc601371403495284dad52961cae',\n",
       " '8d2e80d29f564bf09192ee1aa4e41f63',\n",
       " 'c21db1bbbf1741bf92cb0ba2ce4c95ed',\n",
       " '6d9b989df6d94920bb3ac23b0a350032',\n",
       " '15cdc773245f4064b5a051c46b6b4ea5',\n",
       " 'e13d2d0263f94928ab42c8907e5115cf',\n",
       " 'f22e5df7f519425c8c9d5b7e4e5122e6',\n",
       " '6f8cd83b154e4b739f16c1d85c3d8c81',\n",
       " 'e6bfa1b4591844cdb4dfa20ea2eb3aa6',\n",
       " '2408b97c7cec4c81b383799e2bf50239',\n",
       " '8e969433eca54db898895da8d5da8289',\n",
       " '0b6e3c61bb954348847d96123b842579',\n",
       " 'a8e5f23eda0a46fba8461c0cc7e2ea21',\n",
       " '9e9a9ff01fa741a6a8e505a29044a699',\n",
       " 'ee5be345fea2448dac3b2976ac6acc2f',\n",
       " '33612f9dd9ab4741bab0201e15dbad5e',\n",
       " 'be49b344986f4b03af3a4ae1160de177',\n",
       " '77e5fd8b8d6e46a9978ea11389691a3b',\n",
       " 'c6ae990e907b41ccb1e62871f558e0e4',\n",
       " 'd295ebec20c14fdc8e8c63c14fe0f9eb',\n",
       " 'bea7bbdc35fb49758683e99f46ef3e22',\n",
       " '0b6ae894432d476c99b19b1985b81344',\n",
       " '984f15bdc0a74a86ab940be7a5ef0139',\n",
       " '16218e49085942dd9f4bf8348ae32ed3',\n",
       " '981a9ccd54e2447e809c7608a09bff68',\n",
       " 'b1bfd73b60664a86b4365121a1fbbedc',\n",
       " '780802024dbc46aaba21236d4b3fffa2',\n",
       " 'd03798c7d5204dec9b598c7fe1394871',\n",
       " '50823964f5d44d938250786855ef2745',\n",
       " '9901e7a17f0449b889cc7a2c7a323c43',\n",
       " 'ed7bd071f375403ba0bb0c21e5a22ad6',\n",
       " 'aef41c4056ad4e46ba178fc9dc56b3d9',\n",
       " '579603a6bf9e420fb9ee4c840f882aac',\n",
       " 'e73a0554492d4a3d95661a74573c6547',\n",
       " '018fec18261d4c929cff3f4f7c1628c2',\n",
       " 'f675c3016edb4596a63fe9e30666d02c',\n",
       " 'f83f858a38fd4ccb983b91cb3a506f2d',\n",
       " '60b6f38993ab4741bb5ff7b28f77c037',\n",
       " '6a10bb5b2dcb4f14a4e484a138a117fe',\n",
       " '006644139676409cb85d119c8f33b9cf',\n",
       " 'c0082efbb18244d4ae9e81ddadcf8910',\n",
       " 'b14f5396d54240f8be207f81d42f4253',\n",
       " '68343d4a60d541769873d8909fb35268',\n",
       " 'cfa88d4785c947f4ba1e27097e00955b',\n",
       " 'd84f0cf7be1c43fa8439678397fb300f',\n",
       " 'f1272b17d61d419387c6d1ef607e6001',\n",
       " '4bf70c9ad3dc417692994fbbc9c4cbc4',\n",
       " 'd9ac7e8fcef74086882ffa52c833caf7',\n",
       " 'd6ca9cdcd3fe4900afac55c9bd7be22b',\n",
       " 'c9fa0a24bfc1471ea32fef5274f1746f',\n",
       " '27558529b7c94e6db632ed85b882e655',\n",
       " '913cfc4c055c45d7b1a7738120e050a9',\n",
       " 'ec562c90fc1c4818bb032c54bafc9c2e',\n",
       " 'f7f3e3139e8a4e908424cbbf83513b49',\n",
       " 'bdf129c0161d4f66bf7e2153226f27e1',\n",
       " '7fdb8570249647cabd9b4f42aaac328a',\n",
       " 'c3c7490544c14bc497c4ae7baade3327',\n",
       " 'f24d1db244cb4b58809a7245190b5c8d',\n",
       " '82b88f382b6d4fe4bd4662dc64ee0644',\n",
       " 'b458babc81074197a038b73c5ad819b5',\n",
       " '7f119d86372e4a04ba88e15c1a9df3c3',\n",
       " '93175ce051cc45529568fd8148295908',\n",
       " '8d7b9593320447a7a1ea3c9c94c04db7',\n",
       " '0cb19db7fd2f481f9401a4319c040a24',\n",
       " '3d0b4a9934df463eac8ab2829ca34e59',\n",
       " '9af9cd50381645069c12eb5af9ba1359',\n",
       " 'e2fb77528f674c499c3b5f77f1dd677b',\n",
       " '56707dac8b004f8182cca968b5ff9b94',\n",
       " '3c73c6f8d27e4e6b97abb383679392e5',\n",
       " 'dd5ae0d6c8854bc2a3cfaca47ef7f47f',\n",
       " 'b5260d0a540346ca89806afa80ee1532',\n",
       " 'e166d38e6f8f4974b0f07a016560fe16',\n",
       " '094055faafd84fa1bff96921d87c0dbb',\n",
       " 'c3d92861cc7e45bbae92a6979efd8598',\n",
       " 'e61a4b0346a740849deb7282d3e76a28',\n",
       " 'da5110d7f03444188cab1513cb3feeca',\n",
       " 'cc4e3e01357e4fad86cd9ea6b197e87f',\n",
       " 'c47b0704bd9d4e438d8c86f2cf4e6282',\n",
       " '18dbba7ddc664cbba282170b30413801',\n",
       " 'edf85ab07bc34fbb855138c0d9249763',\n",
       " '380b261066364764a3a1012dc03e95c8',\n",
       " '523ce323192248a5a2223b549f75f66f',\n",
       " '1cc038ff8249499f957fbe858441c10f',\n",
       " '763e34ca1f0f4032bbd8c012620674a3',\n",
       " 'a326efa12a8d4bd38086eb81aa232252',\n",
       " 'd93dfc2b09044f79a34dcdac14225c07',\n",
       " '8b2aa7e7f3c945e099d7061a4e99cd6d',\n",
       " '1057d48f456141549027811e621a1061',\n",
       " '757a6e8b945e44668e0197f24fd43733',\n",
       " 'b5c2ec9e9f7c48aeb3e135e3b9dfb8bd',\n",
       " 'dc285bfaa415497c88052ad8ca07c616',\n",
       " '6b6ef508e0e84cbfb5cf10f1869c15e9',\n",
       " '7c0095661a5e462eb40dfd202c50ffe9',\n",
       " '4443c916f9dd4615920bfea5f98399e8',\n",
       " 'e668f57b7930441e9ba0af5481a445ab',\n",
       " '3ebb6d7c85c5409793f555a3c1ed7702',\n",
       " 'ca12091127bf4c56bcebc0c73a66f256',\n",
       " 'd5203e4eacf84954a6d2e63cf888dea5',\n",
       " '0c60430e96004e4d84fcc55e320e3c60',\n",
       " 'bdc06e39a60948fbac6792323071e7e4',\n",
       " '5e32feabf460420ebdd1701bb14830cb',\n",
       " '094d3e34f4dd483ebbcdf7f5eb799032',\n",
       " '7f48e351bc9b4dfca774bdde78a4ffe8',\n",
       " 'f2bdf1399a774147943ef13471e8ea0a',\n",
       " 'deb6f4df5b2b490ebe088e48b94ead66',\n",
       " 'ac148e6b96fd41ad96a37d2144cdb168',\n",
       " '893c3530f3994139961d68c0d963ed9d',\n",
       " '348ad25589f8472b9bdf167d32ce190a',\n",
       " '2c39a7df29bc4861a3f14da8195e9f2c',\n",
       " '6adf6fbc6127409e8cbc8d32b842b4db',\n",
       " 'e699eaa1b1d1488d9d00a000df0772c7',\n",
       " 'a01798f3ba3e4b049edd381f8859dd47',\n",
       " '888a926f1ec841a1ab4b8538fb4ae097',\n",
       " '6bce4bdf95874bfbb6ccdf4f880c0db5',\n",
       " 'd208db29dc3f434ca48f2b9fbc41fce4',\n",
       " '6e95b80f5c08475298cffe5b00bc643f',\n",
       " 'd6000d1ffa3a46d1971558c4728cd5fe',\n",
       " '0745fc8be14e4b9db02f93e4f78b850d',\n",
       " '226bfde21ffa4cb1ab3d4daa77df73f6',\n",
       " 'f4172f9375d448a09fffc43fe2daf723',\n",
       " '7d94cae9304d4a2bac06cbb5e81091b3',\n",
       " '887424858ec344cfa0b7dfeea33ac0de',\n",
       " '97ac1dc6153e430894d00f3db1192dac',\n",
       " 'd629ac8c07f04ce59b3c144315e1f4e2',\n",
       " '366527374759408abdaab1a7e83923f0',\n",
       " '88b460ae97554d6d8ab548eb5e7cb35c',\n",
       " 'ce286c667ee9411ca479f6c3027262e0',\n",
       " '952989d9fe6a4d47b5b6dc903a0e3ced',\n",
       " '2eb5531b1f77421998a151e4815da19f',\n",
       " '8a3f12dca6844fa68bcd2a72f6d1dc7f',\n",
       " 'd1b541d184554257a37c88854a7c21a8',\n",
       " '0153a996edfb496680f33aebad748564',\n",
       " '5421d2f1139a4012a7a27381180eb181',\n",
       " '49bb4d588c334bc3abea6a757ddd5ef3',\n",
       " 'aa46923aae724b44a8b18af4ff1d8528',\n",
       " '9ab35b7c21ff4f3b8fe3272e4bcbccf1',\n",
       " '11bceda3e15f4047a34915a4db45f3c2',\n",
       " 'c021661c4254447687c5546f77bdcea1',\n",
       " '60499cea5cb846769aa422e5c4e75fe5',\n",
       " '67f867fea86e4d9e9aea81e2d43f2a9a',\n",
       " 'e63dc49e7e644fe3af60cb0fbbc6746b',\n",
       " 'b2c5412b9c81461e815c44432fd171c0',\n",
       " '5b90432d0030449db8deee84529b4d56',\n",
       " 'ef73971d6a864003872c23fb83c856ba',\n",
       " 'd85eab1ef9174ef9805495a3fbcb95df',\n",
       " '954df9ef46f24653a2f8364888e4e8e9',\n",
       " 'd02c5c8931684ddf83916c128252ff4b',\n",
       " '95a3dc4a6f634ea2a9acb2f19e7da8db',\n",
       " '94d441bb06e84024a814b6d07cc8027a',\n",
       " 'cb2cb63d318641bdba65caa2c1e6a909',\n",
       " 'ae797cfe5012477a94103959fd5f45d7',\n",
       " '11329cae5c0a4ded977c747a2d36362f',\n",
       " '9d20a80029de4793ad717a4d77727831',\n",
       " 'adc7ff21a6f44d50b885efd64c3df1eb',\n",
       " '00532113c78c4915bed4ce709b1a6422',\n",
       " 'd43ad9d8ea2d4e37acf7924b7a441005',\n",
       " '7c1ec0f48d4a4d1995058ea463f7b0c1',\n",
       " 'd07efb643cff40d1b7d6cf884fb730b1',\n",
       " '89a018ee5170466c97e3a2e93d3b81d4',\n",
       " '3e0e7d55b7ac4c7194d4a15a22cad740',\n",
       " 'f814a47a3540448088268c0280b10075',\n",
       " '21ba90aefcee47c28f72de67a9f3f0cd',\n",
       " '3ddaf82ad0cb426e9bf2ef5f577644ae',\n",
       " '5803e1f0719841d3b05b06d7c180d52f',\n",
       " '9c94ea7aaef546619e9b56bc52e314b8',\n",
       " 'a86b67e18e734d6194083c10863c1015',\n",
       " '4be088b4ba364742bc05153b412e1f96',\n",
       " 'a87d5434d4e2453fbf71275e6b1506e1',\n",
       " '80e3e64ddee04be8baaf4970f51968f1',\n",
       " '6c223effcbae448f8868e6695c6fdf81',\n",
       " '2ad38090f94b4b0985f7c25a586c1252',\n",
       " '0fc38bc77af34964b588ba1785257e46',\n",
       " '34a7ffff59f64186b9c747b337e49f4c',\n",
       " 'a1720cc0a22149b28667e96ff1cfc985',\n",
       " '50341c7fb7ca47b49ab4af8d76a54aa5',\n",
       " '0c1bfa55f51544aeaf330e6a8a84a6ce',\n",
       " 'f4bfc840d1f247a38e6f4e9cfadbde7e',\n",
       " 'dcf4a53e4daa4ec786a30288235dfa2f',\n",
       " 'f498fa3d8e3148cba08400723ecc0595',\n",
       " '183752006c3042baa5f5a3f8b2b0a822',\n",
       " 'a5e7f03fe06642708ddef3b866067309',\n",
       " 'fc7d0bf6ef0d41b78e75fadc5b95471a',\n",
       " '82e61e00731843b1af3b3104a43bb067',\n",
       " 'ca3a1f9720e04f14ac561c35c67db86c',\n",
       " '919c767297574547bd2ae1ee0125a10b',\n",
       " 'eb6a3f342d964f21a0a97d067629b23b',\n",
       " '07c77ae6abff4a0980f7bafe49353998',\n",
       " '7decdde839da48f8916ddee0a16b8fff',\n",
       " '806dac2c1a934b9f98e18996c1b9a427',\n",
       " '8abbb993fd4e40e4a38799e9e968a905',\n",
       " 'd49a6ad3d66844458a1eb54522a1a2b8',\n",
       " 'fbcf63dbc92543a182675c0e7e1e80f9',\n",
       " '5d76895479ec44a29800bd28421ace22',\n",
       " 'af151ccc78c44ff69a030fd06df27523',\n",
       " 'e9775e22795e41389d8f1a5f05fff7e8',\n",
       " '1bdca1f75c274f6699cff7ba7f03f4f0',\n",
       " '31fde085201545aaa21e18b6f8452671',\n",
       " 'e794fe839fe3423b98b6b9027cd5b812',\n",
       " 'bd67d2bd529746daa7224416e6561a0c',\n",
       " '09adc27852ad444281424442f5e717aa',\n",
       " '0ebe29f88f9c434e9dd1a5669e701a5c',\n",
       " '44d2de7c6d9b4b18abff1845167e34ff',\n",
       " '78b71cab446d40abb255a7d84e0715a3',\n",
       " '2f38dc53d2064e709ee72a2847e3d58c',\n",
       " '29c13c188d5c48d09758753c55208e75',\n",
       " '034999bc62e042cb960a7ef925908259',\n",
       " 'cd305ee4060f47f6a9f2c29c93d6deee',\n",
       " '0678aae0556246be8b18c33042ae6ee8',\n",
       " '2bf5fe91548f4cc59e81c3d7fb96b026',\n",
       " '2038c97a6f464841b247d4488d0585c0',\n",
       " 'ebbbf98b319e458caabf41fe1b2bb7b6',\n",
       " '10f77199956a40e3a9a207f089f7e96f',\n",
       " '72f056e157c342198f34791228466f1d',\n",
       " '3c81425c8bbd48a48123c3efd1f6960d',\n",
       " '3c4fa3321bdc4093ba728da0212549f8',\n",
       " 'b2c181e1460d4b8a81501f3c889a24ff',\n",
       " '74f90ca355c54e788fb13e139de5db06',\n",
       " 'dcc47331719e4643b00659e835825d44',\n",
       " '20aa52e3ec8c40b1bb7445c69439ba6f',\n",
       " '9c0089551e8f4d28a2bc335d23f2483d',\n",
       " '38748f48d83e42e3a2aeccff07b0db7c',\n",
       " 'b70f24fe830c4c74b0e21211719ab4a6',\n",
       " 'c7cf0ee766944212bfe67f736fd30218',\n",
       " 'ca59c1181cfd4abab18fd99275fbcd52',\n",
       " '28360c9d0d364debad7908593b2d0892',\n",
       " '3a7ed21c10c14990a4da0451026b4579',\n",
       " 'f1f79c04fbfb4c05a9051538190ad30f',\n",
       " '3bce0e20d93749d9a893be3b3a9e3b22',\n",
       " '973e6dd13c634f929d71295da0ea3afd',\n",
       " '9095cb60fc3a405fa55cc8040ee5c29e',\n",
       " '3cf6e043d0f84bbbbc0c93fdb41be28a',\n",
       " '7c11433951aa46a6966fb6046ba7445f',\n",
       " '4505b4bc9a204a9687f6943d9152e262',\n",
       " 'c82de75393a14da289fb798455b7586f',\n",
       " 'bca0488e6e5f488981ad20d28b243af5',\n",
       " 'd23bec717c5e4b63af020ef010d93a7b',\n",
       " '6159a70d39634377aaa8a8a12dc214ca',\n",
       " '8c8a32dfd3744d74924a387ccb7a5f8b',\n",
       " '75715c678497417a92ff260ff2d73735',\n",
       " '1a7ab32884fd465e95270981839f84d3',\n",
       " '95e3571671304002987d36847420c52c',\n",
       " '689223aee23f4a6cb1825b59e31deef2',\n",
       " '8281807589b9442a98b3dcc4ca73cf56',\n",
       " 'ccbc5ac2dc9f46548d217d317933d53b',\n",
       " 'ea1bb0c4406342e2a01e1ba3547b793e',\n",
       " '544e582717b446d4b7ff66b632c0dbe7',\n",
       " 'a0db847defb44c44a6a682dfe1ad3e97',\n",
       " '5d4e955fe21447bdb6169ce5a2c27802',\n",
       " 'd5982f7af29e4eb39b91c30de90d2f12',\n",
       " '827f35bbc6454fc6a61b88263b0e0ab4',\n",
       " 'c95ca2bcb4b344d19ca66348203b8046',\n",
       " '164ba2d18d35471f86e97821cc476c18',\n",
       " '86cdb3ef5be74af590d078894a2665b3',\n",
       " '8bcc30ec9c504c0fb66075d7143e8eff',\n",
       " 'ee266196e0934339be7aba5f8ccbdf38',\n",
       " '31feca61b30d4d75839c378e1a0ad72e',\n",
       " '411cf5ba9b9a490585f8a10b4883f190',\n",
       " 'b970785e8f324dcc86e81ad3d470480e',\n",
       " '3e2f8d3ec799442e834eae13f69b4085',\n",
       " '4d55216b3cf545f99be691b5c9e1a0d5',\n",
       " '2bfc57cbfb9e46ae9e38a8fb7db9b90a',\n",
       " '9803c34f345047d49a261370ae433ffc',\n",
       " 'fb425c22abc8444dbec7634e4ec7cb7e',\n",
       " '3f772a53023a4de883873dd4eeb19245',\n",
       " '002a4f78be0f4ee1a39204f682edafd1',\n",
       " '8463bd0024404014a33e062f9db6bbee',\n",
       " '2ea281109cda43c98a2b57b02f97bbc9',\n",
       " '177346c0656f4738a9b0da7261e1b219',\n",
       " '32beef980a81475e9b35921d4b1f9515',\n",
       " '24026a45edf547a7b6130990d0d566fe',\n",
       " '0f4099b656d44825a79688dd539fbdce',\n",
       " '376a5ad19e29480d958d5739a61f9b38',\n",
       " 'e1c459e621b446efa47b18015a0d64b9',\n",
       " '53f5d12e33bf4de99b1f7ae6f159c07d',\n",
       " '254850835fc04b58862f71bb243d3de5',\n",
       " '6313fcc694034e5197e42348d9e87c0a',\n",
       " '602e15664caa4280a10d297c88f1124e',\n",
       " 'cb4bd53dd0e740408fc32f987c5024b4',\n",
       " '64d5eef905e14be49610c9780eceadfa',\n",
       " 'afff228b59794dfbac65e1f1abfd57f3',\n",
       " '69ccd9bf324f45278d88e33120fc6998',\n",
       " 'bef62175e9034e31ab1fe07952f04bf9',\n",
       " '930784a2471c482686ba12ab7273d955',\n",
       " 'ea3f80a08ee549029d0a111fae4b7a5f',\n",
       " 'fb7073c3e7e74ace95f22e7fd9b82b81',\n",
       " 'ba873359bc9f4044b16b725b9c3dbad8',\n",
       " '7413ce739ee249af83bf2ac0f37d0da1',\n",
       " '524e954c47ed443583f3248a4a401953',\n",
       " '3b6684e219814b75909f454db799ef14',\n",
       " '37c1f7dfb4cb45f6bcfc66314d6a89db',\n",
       " '69e3bbe4fc174f83b1908796dfbf3128',\n",
       " 'd2b2f91791384dfb87d3a2479bb58979',\n",
       " '537c1017a30b497b85cefca42432d08d',\n",
       " '4b474ad11b574199998188957e67be22',\n",
       " '493ef8a70e044892ad946a36bb2ff603',\n",
       " '5e6c5d12d57445cab902ff0307086936',\n",
       " 'c07b5517d25145cc83bcc60f79d02346',\n",
       " '5341bf1744d341598e36f2f2365689a4',\n",
       " 'e9ba0a8a6c8b464082449b464927d993',\n",
       " '9625c9ff8e70459a845a0c463c2bc88c',\n",
       " '3b9c90628df7405b9e116784853a6aad',\n",
       " 'a6204478c6974a9abf6fce8e79a358e3',\n",
       " '7a8c0b3d355b48bf8098fe3d4f5d6638',\n",
       " 'c8d4a43907044874812fb225f1d7d2c9',\n",
       " '158e4a5fd03c45f4b509f3be582a6787',\n",
       " '426355c59c53458a90e5572133b06fa4',\n",
       " 'b868ef93bc1d4ba7a55f4ebd4a4cb350',\n",
       " '33b972a97fce4f2a98f1db80a373667f',\n",
       " '02f86df9eabc4193b7397cffbe11a6bc',\n",
       " '7fbf89830cb84b00a5a579438b1cc802',\n",
       " '66f71dbe93c84133868c766a518eead9',\n",
       " 'c3a63147c2b245d4adf9d836aeebaad0',\n",
       " 'bc5ea34acae44736a31f6729eafa7ea9',\n",
       " 'f3b623dc02074fa18b4fb070a492da87',\n",
       " '33d84832eea54b93b94b3f4862caaeae',\n",
       " 'bdedaa6715ef4a8eaa6e9b1c77393616',\n",
       " 'af1f33a50e2a4ead8273ae9da9072700']"
      ]
     },
     "execution_count": 30,
     "metadata": {},
     "output_type": "execute_result"
    }
   ],
   "source": [
    "insert_ids"
   ]
  },
  {
   "cell_type": "code",
   "execution_count": 23,
   "id": "c59c0bde",
   "metadata": {},
   "outputs": [],
   "source": [
    "from langchain_groq import ChatGroq"
   ]
  },
  {
   "cell_type": "code",
   "execution_count": 24,
   "id": "8fefa657",
   "metadata": {},
   "outputs": [],
   "source": [
    "from langchain.chains import create_retrieval_chain\n",
    "from langchain.chains.combine_documents import create_stuff_documents_chain\n",
    "from langchain_core.prompts import MessagesPlaceholder\n",
    "from langchain.chains import create_history_aware_retriever"
   ]
  },
  {
   "cell_type": "code",
   "execution_count": 100,
   "id": "aec0fc91",
   "metadata": {},
   "outputs": [],
   "source": [
    "model=ChatGroq(groq_api_key=GROQ_API_KEY,model=\"llama-3.3-70b-versatile\",temperature=0.6)"
   ]
  },
  {
   "cell_type": "code",
   "execution_count": 101,
   "id": "03cdfc0e",
   "metadata": {},
   "outputs": [],
   "source": [
    "retriever_prompt = (\"Given a chat history and the latest user question which may refer context in the chat history,\"\n",
    "    \"Formulate a standalone question which can be understood without the chat history.\"\n",
    "    \"Do NOT answer the question, just reformulate it if needed and otherwise return it as is.\"\n",
    "    )"
   ]
  },
  {
   "cell_type": "code",
   "execution_count": 102,
   "id": "f7181a3b",
   "metadata": {},
   "outputs": [],
   "source": [
    "retriever=vstore.as_retriever(search_kwargs={\"k\":3})"
   ]
  },
  {
   "cell_type": "code",
   "execution_count": 103,
   "id": "36618e15",
   "metadata": {},
   "outputs": [],
   "source": [
    "from langchain_core.prompts import ChatPromptTemplate"
   ]
  },
  {
   "cell_type": "code",
   "execution_count": 104,
   "id": "2a0537de",
   "metadata": {},
   "outputs": [],
   "source": [
    "context_ques_prompt=ChatPromptTemplate.from_messages(\n",
    "    [\n",
    "        (\"system\", retriever_prompt),\n",
    "        MessagesPlaceholder(variable_name=\"chat_history\"),\n",
    "        (\"human\",\"{input}\"),\n",
    "    ]\n",
    ")"
   ]
  },
  {
   "cell_type": "code",
   "execution_count": 105,
   "id": "7fc9ee7e",
   "metadata": {},
   "outputs": [],
   "source": [
    "history_aware_retriever=create_history_aware_retriever(model,retriever,context_ques_prompt)"
   ]
  },
  {
   "cell_type": "code",
   "execution_count": 106,
   "id": "b20e1275",
   "metadata": {},
   "outputs": [],
   "source": [
    "PRODUCT_BOT_TEMPLATE=\"\"\"\n",
    "    You are an ecommerce bot, expert in product recommendations and responding to customer queries.\n",
    "    As a bot, analyze product titles and reviews to provide accurate and helpful responses.\n",
    "    Ensure your answers are relevant to the product context and refrain from straying off-topic.\n",
    "    Your responses should be concise and informative\n",
    "\n",
    "    CONTEXT:\n",
    "    {context}\n",
    "\n",
    "    QUESTION: {input}\n",
    "\n",
    "    YOUR ANSWER:\n",
    "\n",
    "    \"\"\""
   ]
  },
  {
   "cell_type": "code",
   "execution_count": 107,
   "id": "c3fdcfa6",
   "metadata": {},
   "outputs": [],
   "source": [
    "qa_prompt=ChatPromptTemplate.from_messages(\n",
    "    [\n",
    "        (\"system\",PRODUCT_BOT_TEMPLATE),\n",
    "        MessagesPlaceholder(variable_name=\"chat_history\"),\n",
    "        (\"human\",\"{input}\")\n",
    "    ]\n",
    ")"
   ]
  },
  {
   "cell_type": "code",
   "execution_count": 108,
   "id": "bb49aead",
   "metadata": {},
   "outputs": [],
   "source": [
    "question_answer_chain=create_stuff_documents_chain(model,qa_prompt)"
   ]
  },
  {
   "cell_type": "code",
   "execution_count": 109,
   "id": "53766848",
   "metadata": {},
   "outputs": [],
   "source": [
    "chain=create_retrieval_chain(history_aware_retriever,question_answer_chain)"
   ]
  },
  {
   "cell_type": "code",
   "execution_count": 110,
   "id": "1b353599",
   "metadata": {},
   "outputs": [],
   "source": [
    "chat_history=[]"
   ]
  },
  {
   "cell_type": "code",
   "execution_count": 111,
   "id": "80f95f42",
   "metadata": {},
   "outputs": [],
   "source": [
    "from langchain_community.chat_message_histories import ChatMessageHistory\n",
    "from langchain_core.chat_history import BaseChatMessageHistory\n",
    "from langchain_core.runnables.history import RunnableWithMessageHistory"
   ]
  },
  {
   "cell_type": "code",
   "execution_count": 121,
   "id": "970bf16d",
   "metadata": {},
   "outputs": [],
   "source": [
    "store={}"
   ]
  },
  {
   "cell_type": "code",
   "execution_count": 113,
   "id": "491b44de",
   "metadata": {},
   "outputs": [],
   "source": [
    "def get_session_history(session_id: str)->BaseChatMessageHistory:\n",
    "    if session_id not in store:\n",
    "        store[session_id]=ChatMessageHistory()\n",
    "    return store[session_id]"
   ]
  },
  {
   "cell_type": "code",
   "execution_count": 114,
   "id": "1b85b0e0",
   "metadata": {},
   "outputs": [],
   "source": [
    "chain_with_memory=RunnableWithMessageHistory(\n",
    "    chain,\n",
    "    get_session_history,\n",
    "    input_messages_key=\"input\",\n",
    "    history_messages_key=\"chat_history\",\n",
    "    output_messages_key=\"answer\",\n",
    ")"
   ]
  },
  {
   "cell_type": "code",
   "execution_count": 122,
   "id": "34a19463",
   "metadata": {},
   "outputs": [
    {
     "data": {
      "text/plain": [
       "'Based on the review, the best budget Bluetooth earphones are from One Plus, known for their superb sound quality, good bass, and very good built quality, with 15 hours of playback.'"
      ]
     },
     "execution_count": 122,
     "metadata": {},
     "output_type": "execute_result"
    }
   ],
   "source": [
    "chain_with_memory.invoke(\n",
    "    {\"input\": \"can you tell me the best bluetooth buds??\"},\n",
    "    config={\n",
    "        \"configurable\":{\"session_id\":\"sess01\"}\n",
    "    },\n",
    ")['answer']"
   ]
  },
  {
   "cell_type": "code",
   "execution_count": 123,
   "id": "1f16478d",
   "metadata": {},
   "outputs": [
    {
     "data": {
      "text/plain": [
       "{'sess01': InMemoryChatMessageHistory(messages=[HumanMessage(content='can you tell me the best bluetooth buds??', additional_kwargs={}, response_metadata={}), AIMessage(content='Based on the review, the best budget Bluetooth earphones are from One Plus, known for their superb sound quality, good bass, and very good built quality, with 15 hours of playback.', additional_kwargs={}, response_metadata={})])}"
      ]
     },
     "execution_count": 123,
     "metadata": {},
     "output_type": "execute_result"
    }
   ],
   "source": [
    "store"
   ]
  },
  {
   "cell_type": "code",
   "execution_count": 124,
   "id": "f668112f",
   "metadata": {},
   "outputs": [
    {
     "data": {
      "text/plain": [
       "'Your previous question was \"can you tell me the best bluetooth buds??\"'"
      ]
     },
     "execution_count": 124,
     "metadata": {},
     "output_type": "execute_result"
    }
   ],
   "source": [
    "chain_with_memory.invoke(\n",
    "    {\"input\" : \"What is my previous question?\"},\n",
    "    config={\n",
    "        \"configurable\":{\"session_id\":\"sess01\"}\n",
    "    }\n",
    ")['answer']"
   ]
  },
  {
   "cell_type": "code",
   "execution_count": null,
   "id": "26d5c448",
   "metadata": {},
   "outputs": [],
   "source": [
    "store"
   ]
  },
  {
   "cell_type": "code",
   "execution_count": 125,
   "id": "43221ce3",
   "metadata": {},
   "outputs": [
    {
     "data": {
      "text/plain": [
       "\"You didn't ask a question previously. This conversation just started, and I'm ready to help with any questions you have about the product.\""
      ]
     },
     "execution_count": 125,
     "metadata": {},
     "output_type": "execute_result"
    }
   ],
   "source": [
    "chain_with_memory.invoke(\n",
    "    {\"input\" : \"What is my previous question?\"},\n",
    "    config={\n",
    "        \"configurable\":{\"session_id\":\"sess02\"}\n",
    "    }\n",
    ")['answer']"
   ]
  }
 ],
 "metadata": {
  "kernelspec": {
   "display_name": "Python 3",
   "language": "python",
   "name": "python3"
  },
  "language_info": {
   "codemirror_mode": {
    "name": "ipython",
    "version": 3
   },
   "file_extension": ".py",
   "mimetype": "text/x-python",
   "name": "python",
   "nbconvert_exporter": "python",
   "pygments_lexer": "ipython3",
   "version": "3.11.0"
  }
 },
 "nbformat": 4,
 "nbformat_minor": 5
}
